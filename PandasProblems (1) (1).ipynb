{
 "cells": [
  {
   "cell_type": "code",
   "execution_count": 2,
   "metadata": {},
   "outputs": [
    {
     "name": "stdout",
     "output_type": "stream",
     "text": [
      "   custID  account  tenure_mo account_type\n",
      "0       1        1          2     BusiNESS\n",
      "1       1        2          3     CONSUMER\n",
      "2       2        1          4     consumer\n",
      "3       2        2          4     BUSINESS\n",
      "4       2        3          5     BuSIness\n",
      "5       3        1          6     CONSUmer\n",
      "6       3        2          6     consumer\n",
      "7       4        1          6     CONSUMER\n",
      "8       4        2          7     BUSINESS\n",
      "   custID  cust_age\n",
      "0       1        20\n",
      "1       2        35\n",
      "2       3        50\n",
      "3       4        85\n"
     ]
    }
   ],
   "source": [
    "import pandas as pd\n",
    "df1=pd.DataFrame({'custID':[1,1,2,2,2,3,3,4,4],\n",
    "                  'account':[1,2,1,2,3,1,2,1,2],\n",
    "                  'tenure_mo':[2,3,4,4,5,6,6,6,7],\n",
    "                 'account_type':['BusiNESS','CONSUMER',\n",
    "                                'consumer',\n",
    "                                'BUSINESS',\n",
    "                                'BuSIness',\n",
    "                                'CONSUmer',\n",
    "                                'consumer',\n",
    "                                'CONSUMER',\n",
    "                                'BUSINESS']},columns=['custID','account','tenure_mo','account_type'])\n",
    "print(df1)\n",
    "df2=pd.DataFrame({'custID':[1,2,3,4],\n",
    "                 'cust_age':[20,35,50,85]},columns=['custID','cust_age'])\n",
    "print(df2)"
   ]
  },
  {
   "cell_type": "code",
   "execution_count": 4,
   "metadata": {},
   "outputs": [],
   "source": [
    "#Exercise Breakout room 1: \n",
    "#using pivot tables, write code to display the number of consumer accounts for each customer\n"
   ]
  },
  {
   "cell_type": "code",
   "execution_count": 3,
   "metadata": {},
   "outputs": [
    {
     "data": {
      "text/html": [
       "<div>\n",
       "<style scoped>\n",
       "    .dataframe tbody tr th:only-of-type {\n",
       "        vertical-align: middle;\n",
       "    }\n",
       "\n",
       "    .dataframe tbody tr th {\n",
       "        vertical-align: top;\n",
       "    }\n",
       "\n",
       "    .dataframe thead th {\n",
       "        text-align: right;\n",
       "    }\n",
       "</style>\n",
       "<table border=\"1\" class=\"dataframe\">\n",
       "  <thead>\n",
       "    <tr style=\"text-align: right;\">\n",
       "      <th></th>\n",
       "      <th>custID</th>\n",
       "      <th>Num_consumer_accounts</th>\n",
       "    </tr>\n",
       "  </thead>\n",
       "  <tbody>\n",
       "    <tr>\n",
       "      <th>0</th>\n",
       "      <td>1</td>\n",
       "      <td>1</td>\n",
       "    </tr>\n",
       "    <tr>\n",
       "      <th>1</th>\n",
       "      <td>2</td>\n",
       "      <td>1</td>\n",
       "    </tr>\n",
       "    <tr>\n",
       "      <th>2</th>\n",
       "      <td>3</td>\n",
       "      <td>2</td>\n",
       "    </tr>\n",
       "    <tr>\n",
       "      <th>3</th>\n",
       "      <td>4</td>\n",
       "      <td>1</td>\n",
       "    </tr>\n",
       "  </tbody>\n",
       "</table>\n",
       "</div>"
      ],
      "text/plain": [
       "   custID  Num_consumer_accounts\n",
       "0       1                      1\n",
       "1       2                      1\n",
       "2       3                      2\n",
       "3       4                      1"
      ]
     },
     "execution_count": 3,
     "metadata": {},
     "output_type": "execute_result"
    }
   ],
   "source": [
    "#your code goes here..\n",
    "def num_consumer(x):\n",
    "    return sum([1 if y.upper()== 'CONSUMER' else 0 for y in x])\n",
    "df1.pivot_table('account_type',index=['custID'],aggfunc=num_consumer).reset_index().\\\n",
    "rename(columns={'account_type':'Num_consumer_accounts'})\n"
   ]
  },
  {
   "cell_type": "code",
   "execution_count": null,
   "metadata": {
    "collapsed": true,
    "jupyter": {
     "outputs_hidden": true
    }
   },
   "outputs": [],
   "source": [
    "#Exercise Breakout room 2: \n",
    "#using group by methods (not pivot table), write code to display a list of only those customers that\n",
    "#have at least 1 business account that are under 50 years of age.\n"
   ]
  },
  {
   "cell_type": "code",
   "execution_count": 6,
   "metadata": {},
   "outputs": [
    {
     "data": {
      "text/html": [
       "<div>\n",
       "<style scoped>\n",
       "    .dataframe tbody tr th:only-of-type {\n",
       "        vertical-align: middle;\n",
       "    }\n",
       "\n",
       "    .dataframe tbody tr th {\n",
       "        vertical-align: top;\n",
       "    }\n",
       "\n",
       "    .dataframe thead th {\n",
       "        text-align: right;\n",
       "    }\n",
       "</style>\n",
       "<table border=\"1\" class=\"dataframe\">\n",
       "  <thead>\n",
       "    <tr style=\"text-align: right;\">\n",
       "      <th></th>\n",
       "      <th>custID</th>\n",
       "      <th>account</th>\n",
       "      <th>tenure_mo</th>\n",
       "      <th>account_type</th>\n",
       "      <th>cust_age</th>\n",
       "    </tr>\n",
       "  </thead>\n",
       "  <tbody>\n",
       "    <tr>\n",
       "      <th>0</th>\n",
       "      <td>1</td>\n",
       "      <td>1</td>\n",
       "      <td>2</td>\n",
       "      <td>BusiNESS</td>\n",
       "      <td>20</td>\n",
       "    </tr>\n",
       "    <tr>\n",
       "      <th>1</th>\n",
       "      <td>1</td>\n",
       "      <td>2</td>\n",
       "      <td>3</td>\n",
       "      <td>CONSUMER</td>\n",
       "      <td>20</td>\n",
       "    </tr>\n",
       "    <tr>\n",
       "      <th>2</th>\n",
       "      <td>2</td>\n",
       "      <td>1</td>\n",
       "      <td>4</td>\n",
       "      <td>consumer</td>\n",
       "      <td>35</td>\n",
       "    </tr>\n",
       "    <tr>\n",
       "      <th>3</th>\n",
       "      <td>2</td>\n",
       "      <td>2</td>\n",
       "      <td>4</td>\n",
       "      <td>BUSINESS</td>\n",
       "      <td>35</td>\n",
       "    </tr>\n",
       "    <tr>\n",
       "      <th>4</th>\n",
       "      <td>2</td>\n",
       "      <td>3</td>\n",
       "      <td>5</td>\n",
       "      <td>BuSIness</td>\n",
       "      <td>35</td>\n",
       "    </tr>\n",
       "    <tr>\n",
       "      <th>5</th>\n",
       "      <td>3</td>\n",
       "      <td>1</td>\n",
       "      <td>6</td>\n",
       "      <td>CONSUmer</td>\n",
       "      <td>50</td>\n",
       "    </tr>\n",
       "    <tr>\n",
       "      <th>6</th>\n",
       "      <td>3</td>\n",
       "      <td>2</td>\n",
       "      <td>6</td>\n",
       "      <td>consumer</td>\n",
       "      <td>50</td>\n",
       "    </tr>\n",
       "    <tr>\n",
       "      <th>7</th>\n",
       "      <td>4</td>\n",
       "      <td>1</td>\n",
       "      <td>6</td>\n",
       "      <td>CONSUMER</td>\n",
       "      <td>85</td>\n",
       "    </tr>\n",
       "    <tr>\n",
       "      <th>8</th>\n",
       "      <td>4</td>\n",
       "      <td>2</td>\n",
       "      <td>7</td>\n",
       "      <td>BUSINESS</td>\n",
       "      <td>85</td>\n",
       "    </tr>\n",
       "  </tbody>\n",
       "</table>\n",
       "</div>"
      ],
      "text/plain": [
       "   custID  account  tenure_mo account_type  cust_age\n",
       "0       1        1          2     BusiNESS        20\n",
       "1       1        2          3     CONSUMER        20\n",
       "2       2        1          4     consumer        35\n",
       "3       2        2          4     BUSINESS        35\n",
       "4       2        3          5     BuSIness        35\n",
       "5       3        1          6     CONSUmer        50\n",
       "6       3        2          6     consumer        50\n",
       "7       4        1          6     CONSUMER        85\n",
       "8       4        2          7     BUSINESS        85"
      ]
     },
     "execution_count": 6,
     "metadata": {},
     "output_type": "execute_result"
    }
   ],
   "source": [
    "#your code goes here: \n",
    "#Step 1: merge the 2\n",
    "df3 = pd.merge(df1, df2, on = ['custID'])\n",
    "df3"
   ]
  },
  {
   "cell_type": "code",
   "execution_count": 40,
   "metadata": {},
   "outputs": [
    {
     "data": {
      "text/html": [
       "<div>\n",
       "<style>\n",
       "    .dataframe thead tr:only-child th {\n",
       "        text-align: right;\n",
       "    }\n",
       "\n",
       "    .dataframe thead th {\n",
       "        text-align: left;\n",
       "    }\n",
       "\n",
       "    .dataframe tbody tr th {\n",
       "        vertical-align: top;\n",
       "    }\n",
       "</style>\n",
       "<table border=\"1\" class=\"dataframe\">\n",
       "  <thead>\n",
       "    <tr style=\"text-align: right;\">\n",
       "      <th></th>\n",
       "      <th>custID</th>\n",
       "      <th>account</th>\n",
       "      <th>tenure_mo</th>\n",
       "      <th>account_type</th>\n",
       "      <th>cust_age</th>\n",
       "    </tr>\n",
       "  </thead>\n",
       "  <tbody>\n",
       "    <tr>\n",
       "      <th>0</th>\n",
       "      <td>1</td>\n",
       "      <td>1</td>\n",
       "      <td>2</td>\n",
       "      <td>BusiNESS</td>\n",
       "      <td>20</td>\n",
       "    </tr>\n",
       "    <tr>\n",
       "      <th>1</th>\n",
       "      <td>1</td>\n",
       "      <td>2</td>\n",
       "      <td>3</td>\n",
       "      <td>CONSUMER</td>\n",
       "      <td>20</td>\n",
       "    </tr>\n",
       "    <tr>\n",
       "      <th>2</th>\n",
       "      <td>2</td>\n",
       "      <td>1</td>\n",
       "      <td>4</td>\n",
       "      <td>consumer</td>\n",
       "      <td>35</td>\n",
       "    </tr>\n",
       "    <tr>\n",
       "      <th>3</th>\n",
       "      <td>2</td>\n",
       "      <td>2</td>\n",
       "      <td>4</td>\n",
       "      <td>BUSINESS</td>\n",
       "      <td>35</td>\n",
       "    </tr>\n",
       "    <tr>\n",
       "      <th>4</th>\n",
       "      <td>2</td>\n",
       "      <td>3</td>\n",
       "      <td>5</td>\n",
       "      <td>BuSIness</td>\n",
       "      <td>35</td>\n",
       "    </tr>\n",
       "  </tbody>\n",
       "</table>\n",
       "</div>"
      ],
      "text/plain": [
       "   custID  account  tenure_mo account_type  cust_age\n",
       "0       1        1          2     BusiNESS        20\n",
       "1       1        2          3     CONSUMER        20\n",
       "2       2        1          4     consumer        35\n",
       "3       2        2          4     BUSINESS        35\n",
       "4       2        3          5     BuSIness        35"
      ]
     },
     "execution_count": 40,
     "metadata": {},
     "output_type": "execute_result"
    }
   ],
   "source": [
    "result.drop('custID',axis=1).reset_index().drop('level_1',axis=1)"
   ]
  },
  {
   "cell_type": "code",
   "execution_count": 12,
   "metadata": {},
   "outputs": [
    {
     "name": "stdout",
     "output_type": "stream",
     "text": [
      "1\n",
      "1\n",
      "0\n",
      "0\n",
      "          custID  account  tenure_mo account_type  cust_age\n",
      "custID                                                     \n",
      "1      0       1        1          2     BusiNESS        20\n",
      "       1       1        2          3     CONSUMER        20\n",
      "2      2       2        1          4     consumer        35\n",
      "       3       2        2          4     BUSINESS        35\n",
      "       4       2        3          5     BuSIness        35\n"
     ]
    }
   ],
   "source": [
    "grouped=df3.groupby('custID')\n",
    "def segment(df): \n",
    "    num_business=sum([1 if y.upper()== 'BUSINESS' else 0 for y in df['account_type']])\n",
    "    age_ind=1*(df['cust_age'].min()<50)\n",
    "    print(age_ind)\n",
    "    if (num_business>0)&(age_ind>0): \n",
    "        return df\n",
    "result=grouped.apply(segment)\n",
    "print(result)"
   ]
  },
  {
   "cell_type": "code",
   "execution_count": null,
   "metadata": {},
   "outputs": [],
   "source": []
  }
 ],
 "metadata": {
  "kernelspec": {
   "display_name": "Python 3",
   "language": "python",
   "name": "python3"
  },
  "language_info": {
   "codemirror_mode": {
    "name": "ipython",
    "version": 3
   },
   "file_extension": ".py",
   "mimetype": "text/x-python",
   "name": "python",
   "nbconvert_exporter": "python",
   "pygments_lexer": "ipython3",
   "version": "3.11.7"
  }
 },
 "nbformat": 4,
 "nbformat_minor": 4
}
